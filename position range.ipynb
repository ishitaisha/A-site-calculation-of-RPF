{
 "cells": [
  {
   "cell_type": "code",
   "execution_count": 1,
   "id": "27996ddf",
   "metadata": {},
   "outputs": [],
   "source": [
    "import pandas as pd\n",
    "import numpy as np"
   ]
  },
  {
   "cell_type": "code",
   "execution_count": 93,
   "id": "8f74904b",
   "metadata": {},
   "outputs": [],
   "source": [
    "annot_input=pd.read_csv('input2.tsv',sep=\"\\t\", header=0)\n",
    "#annot_input.iloc[0,4]\n",
    "start_codon=[]\n",
    "gene_name=[]\n",
    "stop_codon=[]\n",
    "strand=[]\n",
    "target_row_index = 16554\n",
    "i=3\n",
    "for index, row in annot_input.iterrows():\n",
    "        #print(annot_input.iloc[i,4])\n",
    "    i=i+1\n",
    "    if index<16550:\n",
    "        if annot_input.iloc[i,3]==\"start_codon\":\n",
    "            start_codon.append(annot_input.iloc[i,4])\n",
    "            gene_name.append(annot_input.iloc[i,0])\n",
    "            strand.append(annot_input.iloc[i,2])\n",
    "            stop_codon.append(annot_input.iloc[i+2,5])\n",
    "new_file=list(map(list, zip(gene_name,start_codon,stop_codon)))\n",
    "new_file_annot = pd.DataFrame(\n",
    "    {'name': gene_name,\n",
    "     'start': start_codon,\n",
    "     'stop': stop_codon,'strand':strand\n",
    "    })\n",
    "new_file_annot.to_csv(\"new_annot_file.tsv\", sep=\"\\t\")\n"
   ]
  },
  {
   "cell_type": "code",
   "execution_count": null,
   "id": "d8785377",
   "metadata": {},
   "outputs": [],
   "source": []
  }
 ],
 "metadata": {
  "kernelspec": {
   "display_name": "Python 3 (ipykernel)",
   "language": "python",
   "name": "python3"
  },
  "language_info": {
   "codemirror_mode": {
    "name": "ipython",
    "version": 3
   },
   "file_extension": ".py",
   "mimetype": "text/x-python",
   "name": "python",
   "nbconvert_exporter": "python",
   "pygments_lexer": "ipython3",
   "version": "3.9.13"
  }
 },
 "nbformat": 4,
 "nbformat_minor": 5
}
